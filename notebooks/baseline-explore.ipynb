{
 "cells": [
  {
   "cell_type": "code",
   "execution_count": 1,
   "metadata": {},
   "outputs": [],
   "source": [
    "import numpy as np\n",
    "import pandas as pd\n",
    "import matplotlib.pyplot as plt\n",
    "%matplotlib inline\n",
    "import seaborn as sns\n",
    "\n",
    "import sys"
   ]
  },
  {
   "cell_type": "code",
   "execution_count": 2,
   "metadata": {},
   "outputs": [],
   "source": [
    "from scipy import sparse\n",
    "\n",
    "from sklearn.model_selection import PredefinedSplit, GridSearchCV\n",
    "from sklearn.linear_model import LogisticRegression\n",
    "from sklearn.feature_extraction.text import TfidfVectorizer\n",
    "\n",
    "from sklearn.svm import SVC\n",
    "from sklearn.neural_network import MLPClassifier"
   ]
  },
  {
   "cell_type": "code",
   "execution_count": 3,
   "metadata": {},
   "outputs": [],
   "source": [
    "import powerlaw\n",
    "from collections import Counter\n",
    "\n",
    "import pathlib"
   ]
  },
  {
   "cell_type": "code",
   "execution_count": 4,
   "metadata": {},
   "outputs": [],
   "source": [
    "import matplotlib as mpl\n",
    "\n",
    "mpl.rcParams['axes.titlesize'] = 16\n",
    "mpl.rcParams['axes.labelsize'] = 14\n",
    "mpl.rcParams['legend.fontsize'] = 12\n",
    "mpl.rcParams['xtick.labelsize'] = 12\n",
    "mpl.rcParams['ytick.labelsize'] = 12\n",
    "mpl.rcParams['axes.spines.right'] = False\n",
    "mpl.rcParams['axes.spines.top'] = False"
   ]
  },
  {
   "cell_type": "code",
   "execution_count": 5,
   "metadata": {},
   "outputs": [],
   "source": [
    "sys.path.append(\"../\")"
   ]
  },
  {
   "cell_type": "code",
   "execution_count": 6,
   "metadata": {},
   "outputs": [],
   "source": [
    "from baseline import load_split"
   ]
  },
  {
   "cell_type": "code",
   "execution_count": 7,
   "metadata": {},
   "outputs": [],
   "source": [
    "def load_data(\n",
    "    data_dir=\"../data/\",\n",
    "    source=\"large-762M-k40\",\n",
    "    n_train=50000,\n",
    "    n_valid=10000\n",
    "):\n",
    "\n",
    "    # load texts\n",
    "    train_texts, train_labels = load_split(data_dir, source, 'train', n=n_train)\n",
    "    valid_texts, valid_labels = load_split(data_dir, source, 'valid', n=n_valid)\n",
    "    test_texts, test_labels = load_split(data_dir, source, 'test')\n",
    "    return train_texts, train_labels, valid_texts, valid_labels, test_texts, test_labels"
   ]
  },
  {
   "cell_type": "code",
   "execution_count": 8,
   "metadata": {},
   "outputs": [],
   "source": [
    "def get_ttrs(texts):\n",
    "    ttrs = []\n",
    "    for text in texts:\n",
    "        TTR = len(set(text.split(\" \"))) / len(text.split(\" \"))\n",
    "        ttrs.append(TTR)\n",
    "    return ttrs\n",
    "\n",
    "def get_zipf_alpha(text):\n",
    "    counts = list(Counter(text.split(\" \")).values())\n",
    "    fit = powerlaw.Fit(counts, discrete=True, xmin=1)\n",
    "    return fit.alpha\n",
    "\n",
    "def get_type_entropy_kgram(text, k=2):\n",
    "    _tokens = text.split(\" \")\n",
    "    tokens = [\n",
    "        \" \".join(_tokens[i: i + k])\n",
    "        for i in range(len(_tokens) - k + 1)\n",
    "    ]\n",
    "    types = list(set(tokens))\n",
    "\n",
    "    n_tokens = len(tokens)\n",
    "    n_types = len(types)\n",
    "\n",
    "    freqs = [ x/n_tokens for x in Counter(tokens).values()]\n",
    "\n",
    "    type_entropy = -sum((x*np.log(x) for x in freqs))\n",
    "    return type_entropy"
   ]
  },
  {
   "cell_type": "code",
   "execution_count": 24,
   "metadata": {},
   "outputs": [],
   "source": [
    "def get_baseline_accuracy(max_ngram=None):\n",
    "\n",
    "    # compute featurs\n",
    "    vect = TfidfVectorizer(ngram_range=(max_ngram, max_ngram), min_df=5, max_features=2**21)\n",
    "    train_features = vect.fit_transform(train_texts)\n",
    "    valid_features = vect.transform(valid_texts)\n",
    "    test_features = vect.transform(test_texts)\n",
    "\n",
    "    # fit logistic regression model\n",
    "    model = LogisticRegression(solver='liblinear')\n",
    "    params = {'C': [1/64, 1/32, 1/16, 1/8, 1/4, 1/2, 1, 2, 4, 8, 16, 32, 64][::2]}\n",
    "    split = PredefinedSplit([-1]*n_train+[0]*n_valid)\n",
    "    search = GridSearchCV(model, params, cv=split, n_jobs=4, verbose=True, refit=False)\n",
    "    search.fit(sparse.vstack([train_features, valid_features]), train_labels+valid_labels)\n",
    "    model = model.set_params(**search.best_params_)\n",
    "    model.fit(train_features, train_labels)\n",
    "\n",
    "    # compute accuracy by length\n",
    "    valid_accuracy = model.score(valid_features, valid_labels)*100.\n",
    "    test_accuracy = model.score(test_features, test_labels)*100.\n",
    "\n",
    "    df = pd.DataFrame({\n",
    "        \"correct\": test_labels == model.predict(test_features),\n",
    "        \"length\": [ len(x) for x in test_texts ]\n",
    "    })\n",
    "    df[\"length_q\"] = pd.qcut(df.length, q=30)\n",
    "    accuracy_by_length = df.groupby(\"length_q\").mean()[[\"correct\"]]\n",
    "    accuracy_by_length[\"length_m\"] = [float(i.mid) for i in accuracy_by_length.index]\n",
    "    accuracy_by_length = accuracy_by_length.astype(float)\n",
    "\n",
    "    return accuracy_by_length"
   ]
  },
  {
   "cell_type": "code",
   "execution_count": 25,
   "metadata": {},
   "outputs": [],
   "source": [
    "def get_QL_accuracy(train_features, train_labels, test_features, test_labels, valid_features, valid_labels):\n",
    "    # fit logistic regression model\n",
    "    model = LogisticRegression(solver='liblinear')\n",
    "    params = {'C': [1/64, 1/32, 1/16, 1/8, 1/4, 1/2, 1, 2, 4, 8, 16, 32, 64][::2]}\n",
    "    split = PredefinedSplit([-1]*n_train+[0]*n_valid)\n",
    "    search = GridSearchCV(model, params, cv=split, n_jobs=4, verbose=True, refit=False)\n",
    "    search.fit(sparse.vstack([train_features, valid_features]), train_labels+valid_labels)\n",
    "    model = model.set_params(**search.best_params_)\n",
    "    model.fit(train_features, train_labels)\n",
    "\n",
    "    # compute accuracy by length\n",
    "    valid_accuracy = model.score(valid_features, valid_labels)*100.\n",
    "    test_accuracy = model.score(test_features, test_labels)*100.\n",
    "\n",
    "    df = pd.DataFrame({\n",
    "        \"correct\": test_labels == model.predict(test_features),\n",
    "        \"length\": [ len(x) for x in test_texts ]\n",
    "    })\n",
    "    df[\"length_q\"] = pd.qcut(df.length, q=30)\n",
    "    accuracy_by_length = df.groupby(\"length_q\").mean()[[\"correct\"]]\n",
    "    accuracy_by_length[\"length_m\"] = [float(i.mid) for i in accuracy_by_length.index]\n",
    "    accuracy_by_length = accuracy_by_length.astype(float)\n",
    "\n",
    "    return accuracy_by_length"
   ]
  },
  {
   "cell_type": "code",
   "execution_count": 26,
   "metadata": {},
   "outputs": [],
   "source": [
    "gutenberg_root = pathlib.Path.home() / \"work\" / \"ongoing\" / \"gutenberg\"\n",
    "\n",
    "def get_gutenberg_piece(path_to_text, desired_length):\n",
    "    text = path_to_text.read_text()\n",
    "    _tokens = text.split(\" \")\n",
    "    _n_tokens = len(_tokens)\n",
    "    tokens = _tokens[int(0.05 * _n_tokens): int(0.95 * _n_tokens)]\n",
    "    text = \" \".join(tokens)\n",
    "    if len(text) < desired_length:\n",
    "        return None\n",
    "    start = np.random.randint(0, len(text) - desired_length)\n",
    "    text = text[start:start + desired_length]\n",
    "    return text\n",
    "\n",
    "def get_gutenberg_pieces(desired_lengths):\n",
    "    gutenberg_texts = gutenberg_root / \"data\" / \"text\"\n",
    "    texts = []\n",
    "    for path_to_text, desired_length in zip(gutenberg_texts.glob(\"*\"), desired_lengths):\n",
    "        texts.append(get_gutenberg_piece(path_to_text, desired_length))\n",
    "\n",
    "    texts = [x for x in texts if x is not None]\n",
    "    return texts"
   ]
  },
  {
   "cell_type": "code",
   "execution_count": 27,
   "metadata": {},
   "outputs": [
    {
     "name": "stdout",
     "output_type": "stream",
     "text": [
      "../data/large-762M-k40.test.jsonl  ../data/small-117M-k40.test.jsonl\n",
      "../data/medium-345M-k40.test.jsonl ../data/xl-1542M-k40.test.jsonl\n"
     ]
    }
   ],
   "source": [
    "! ls ../data/*k40.test*"
   ]
  },
  {
   "cell_type": "code",
   "execution_count": 39,
   "metadata": {},
   "outputs": [],
   "source": [
    "n_train = 50000\n",
    "n_valid = 10000\n",
    "source = \"small-117M\"\n",
    "train_texts, train_labels, valid_texts, valid_labels, test_texts, test_labels = load_data(\n",
    "    data_dir=\"../data\",\n",
    "    source=source,\n",
    "    n_train=n_train,\n",
    "    n_valid=n_valid)"
   ]
  },
  {
   "cell_type": "raw",
   "metadata": {},
   "source": [
    "valid_texts[:2500] = get_gutenberg_pieces([len(x) for x in valid_texts[:2600]])[:2500]\n",
    "train_texts[:5000] = get_gutenberg_pieces([len(x) for x in train_texts[:5500]])[:5000]\n",
    "test_texts[:5000] = get_gutenberg_pieces([len(x) for x in test_texts[:5500]])[:5000]"
   ]
  },
  {
   "cell_type": "code",
   "execution_count": null,
   "metadata": {},
   "outputs": [],
   "source": []
  },
  {
   "cell_type": "code",
   "execution_count": 40,
   "metadata": {},
   "outputs": [
    {
     "name": "stdout",
     "output_type": "stream",
     "text": [
      "Fitting 1 folds for each of 7 candidates, totalling 7 fits\n"
     ]
    },
    {
     "name": "stderr",
     "output_type": "stream",
     "text": [
      "[Parallel(n_jobs=4)]: Using backend LokyBackend with 4 concurrent workers.\n",
      "/Users/fontclos/anaconda3/lib/python3.7/site-packages/sklearn/externals/joblib/externals/loky/process_executor.py:706: UserWarning: A worker stopped while some jobs were given to the executor. This can be caused by a too short worker timeout or by a memory leak.\n",
      "  \"timeout or by a memory leak.\", UserWarning\n",
      "/Users/fontclos/anaconda3/lib/python3.7/site-packages/sklearn/externals/joblib/externals/loky/process_executor.py:706: UserWarning: A worker stopped while some jobs were given to the executor. This can be caused by a too short worker timeout or by a memory leak.\n",
      "  \"timeout or by a memory leak.\", UserWarning\n",
      "/Users/fontclos/anaconda3/lib/python3.7/site-packages/sklearn/externals/joblib/externals/loky/process_executor.py:706: UserWarning: A worker stopped while some jobs were given to the executor. This can be caused by a too short worker timeout or by a memory leak.\n",
      "  \"timeout or by a memory leak.\", UserWarning\n",
      "[Parallel(n_jobs=4)]: Done   7 out of   7 | elapsed:   35.7s finished\n"
     ]
    }
   ],
   "source": [
    "acc_k1 = get_baseline_accuracy(max_ngram=1)"
   ]
  },
  {
   "cell_type": "code",
   "execution_count": 41,
   "metadata": {},
   "outputs": [
    {
     "name": "stdout",
     "output_type": "stream",
     "text": [
      "Fitting 1 folds for each of 7 candidates, totalling 7 fits\n"
     ]
    },
    {
     "name": "stderr",
     "output_type": "stream",
     "text": [
      "[Parallel(n_jobs=4)]: Using backend LokyBackend with 4 concurrent workers.\n",
      "[Parallel(n_jobs=4)]: Done   7 out of   7 | elapsed:  1.1min finished\n"
     ]
    }
   ],
   "source": [
    "acc_k2 = get_baseline_accuracy(max_ngram=2)"
   ]
  },
  {
   "cell_type": "code",
   "execution_count": 42,
   "metadata": {},
   "outputs": [
    {
     "name": "stdout",
     "output_type": "stream",
     "text": [
      "Fitting 1 folds for each of 7 candidates, totalling 7 fits\n"
     ]
    },
    {
     "name": "stderr",
     "output_type": "stream",
     "text": [
      "[Parallel(n_jobs=4)]: Using backend LokyBackend with 4 concurrent workers.\n",
      "[Parallel(n_jobs=4)]: Done   7 out of   7 | elapsed:   24.3s finished\n"
     ]
    }
   ],
   "source": [
    "acc_k3 = get_baseline_accuracy(max_ngram=3)"
   ]
  },
  {
   "cell_type": "code",
   "execution_count": null,
   "metadata": {},
   "outputs": [],
   "source": []
  },
  {
   "cell_type": "code",
   "execution_count": 43,
   "metadata": {},
   "outputs": [],
   "source": [
    "train_ttr = get_ttrs(train_texts)\n",
    "test_ttr = get_ttrs(test_texts)\n",
    "valid_ttr = get_ttrs(valid_texts)"
   ]
  },
  {
   "cell_type": "code",
   "execution_count": 44,
   "metadata": {},
   "outputs": [
    {
     "name": "stderr",
     "output_type": "stream",
     "text": [
      "/Users/fontclos/anaconda3/lib/python3.7/site-packages/powerlaw.py:700: RuntimeWarning: invalid value encountered in true_divide\n",
      "  (Theoretical_CDF * (1 - Theoretical_CDF))\n",
      "Not enough data. Returning nan\n",
      "Not enough data. Returning nan\n",
      "Not enough data. Returning nan\n",
      "Not enough data. Returning nan\n",
      "Not enough data. Returning nan\n",
      "Not enough data. Returning nan\n",
      "Not enough data. Returning nan\n",
      "Not enough data. Returning nan\n",
      "Not enough data. Returning nan\n",
      "Not enough data. Returning nan\n",
      "Not enough data. Returning nan\n",
      "Not enough data. Returning nan\n",
      "Not enough data. Returning nan\n",
      "Not enough data. Returning nan\n",
      "Not enough data. Returning nan\n",
      "Not enough data. Returning nan\n",
      "Not enough data. Returning nan\n",
      "Not enough data. Returning nan\n",
      "Not enough data. Returning nan\n",
      "Not enough data. Returning nan\n",
      "Not enough data. Returning nan\n",
      "Not enough data. Returning nan\n",
      "Not enough data. Returning nan\n",
      "Not enough data. Returning nan\n",
      "Not enough data. Returning nan\n",
      "Not enough data. Returning nan\n",
      "Not enough data. Returning nan\n",
      "Not enough data. Returning nan\n",
      "Not enough data. Returning nan\n",
      "Not enough data. Returning nan\n",
      "Not enough data. Returning nan\n",
      "Not enough data. Returning nan\n",
      "Not enough data. Returning nan\n",
      "Not enough data. Returning nan\n",
      "Not enough data. Returning nan\n",
      "Not enough data. Returning nan\n",
      "Not enough data. Returning nan\n",
      "Not enough data. Returning nan\n",
      "Not enough data. Returning nan\n",
      "Not enough data. Returning nan\n",
      "Not enough data. Returning nan\n",
      "Not enough data. Returning nan\n",
      "Not enough data. Returning nan\n",
      "Not enough data. Returning nan\n",
      "Not enough data. Returning nan\n",
      "Not enough data. Returning nan\n",
      "Not enough data. Returning nan\n",
      "Not enough data. Returning nan\n",
      "Not enough data. Returning nan\n",
      "Not enough data. Returning nan\n",
      "Not enough data. Returning nan\n",
      "Not enough data. Returning nan\n",
      "Not enough data. Returning nan\n",
      "Not enough data. Returning nan\n",
      "Not enough data. Returning nan\n",
      "Not enough data. Returning nan\n",
      "Not enough data. Returning nan\n",
      "Not enough data. Returning nan\n",
      "Not enough data. Returning nan\n",
      "Not enough data. Returning nan\n",
      "Not enough data. Returning nan\n",
      "Not enough data. Returning nan\n",
      "Not enough data. Returning nan\n",
      "Not enough data. Returning nan\n",
      "Not enough data. Returning nan\n",
      "Not enough data. Returning nan\n",
      "Not enough data. Returning nan\n",
      "Not enough data. Returning nan\n",
      "Not enough data. Returning nan\n",
      "Not enough data. Returning nan\n",
      "Not enough data. Returning nan\n",
      "Not enough data. Returning nan\n",
      "Not enough data. Returning nan\n",
      "Not enough data. Returning nan\n",
      "Not enough data. Returning nan\n",
      "Not enough data. Returning nan\n",
      "Not enough data. Returning nan\n",
      "Not enough data. Returning nan\n",
      "Not enough data. Returning nan\n",
      "Not enough data. Returning nan\n",
      "Not enough data. Returning nan\n",
      "Not enough data. Returning nan\n",
      "Not enough data. Returning nan\n",
      "Not enough data. Returning nan\n",
      "Not enough data. Returning nan\n",
      "Not enough data. Returning nan\n",
      "Not enough data. Returning nan\n",
      "Not enough data. Returning nan\n",
      "Not enough data. Returning nan\n",
      "Not enough data. Returning nan\n",
      "Not enough data. Returning nan\n",
      "Not enough data. Returning nan\n",
      "Not enough data. Returning nan\n",
      "Not enough data. Returning nan\n",
      "Not enough data. Returning nan\n",
      "Not enough data. Returning nan\n",
      "Not enough data. Returning nan\n",
      "Not enough data. Returning nan\n",
      "Not enough data. Returning nan\n",
      "Not enough data. Returning nan\n",
      "Not enough data. Returning nan\n",
      "Not enough data. Returning nan\n",
      "Not enough data. Returning nan\n",
      "Not enough data. Returning nan\n",
      "Not enough data. Returning nan\n",
      "Not enough data. Returning nan\n",
      "Not enough data. Returning nan\n",
      "Not enough data. Returning nan\n",
      "Not enough data. Returning nan\n",
      "Not enough data. Returning nan\n",
      "Not enough data. Returning nan\n",
      "Not enough data. Returning nan\n",
      "Not enough data. Returning nan\n",
      "Not enough data. Returning nan\n",
      "Not enough data. Returning nan\n",
      "Not enough data. Returning nan\n",
      "Not enough data. Returning nan\n",
      "Not enough data. Returning nan\n",
      "Not enough data. Returning nan\n",
      "Not enough data. Returning nan\n",
      "Not enough data. Returning nan\n",
      "Not enough data. Returning nan\n",
      "Not enough data. Returning nan\n",
      "Not enough data. Returning nan\n",
      "Not enough data. Returning nan\n",
      "Not enough data. Returning nan\n",
      "Not enough data. Returning nan\n",
      "Not enough data. Returning nan\n",
      "Not enough data. Returning nan\n",
      "Not enough data. Returning nan\n",
      "Not enough data. Returning nan\n",
      "Not enough data. Returning nan\n",
      "Not enough data. Returning nan\n",
      "Not enough data. Returning nan\n",
      "Not enough data. Returning nan\n",
      "Not enough data. Returning nan\n",
      "Not enough data. Returning nan\n",
      "Not enough data. Returning nan\n",
      "Not enough data. Returning nan\n",
      "Not enough data. Returning nan\n",
      "Not enough data. Returning nan\n",
      "Not enough data. Returning nan\n",
      "Not enough data. Returning nan\n",
      "Not enough data. Returning nan\n",
      "Not enough data. Returning nan\n",
      "Not enough data. Returning nan\n",
      "Not enough data. Returning nan\n",
      "Not enough data. Returning nan\n",
      "Not enough data. Returning nan\n",
      "Not enough data. Returning nan\n",
      "Not enough data. Returning nan\n",
      "Not enough data. Returning nan\n",
      "Not enough data. Returning nan\n",
      "Not enough data. Returning nan\n",
      "Not enough data. Returning nan\n",
      "Not enough data. Returning nan\n",
      "Not enough data. Returning nan\n",
      "Not enough data. Returning nan\n",
      "Not enough data. Returning nan\n",
      "Not enough data. Returning nan\n",
      "Not enough data. Returning nan\n",
      "Not enough data. Returning nan\n",
      "Not enough data. Returning nan\n",
      "Not enough data. Returning nan\n",
      "Not enough data. Returning nan\n",
      "Not enough data. Returning nan\n",
      "Not enough data. Returning nan\n",
      "Not enough data. Returning nan\n",
      "Not enough data. Returning nan\n",
      "Not enough data. Returning nan\n",
      "Not enough data. Returning nan\n",
      "Not enough data. Returning nan\n",
      "Not enough data. Returning nan\n",
      "Not enough data. Returning nan\n",
      "Not enough data. Returning nan\n",
      "Not enough data. Returning nan\n",
      "Not enough data. Returning nan\n",
      "Not enough data. Returning nan\n",
      "Not enough data. Returning nan\n",
      "Not enough data. Returning nan\n",
      "Not enough data. Returning nan\n",
      "Not enough data. Returning nan\n"
     ]
    }
   ],
   "source": [
    "train_zipf_alpha = [\n",
    "    get_zipf_alpha(text)\n",
    "    for text in train_texts\n",
    "]\n",
    "\n",
    "valid_zipf_alpha = [\n",
    "    get_zipf_alpha(text)\n",
    "    for text in valid_texts\n",
    "]\n",
    "\n",
    "test_zipf_alpha = [\n",
    "    get_zipf_alpha(text)\n",
    "    for text in test_texts\n",
    "]"
   ]
  },
  {
   "cell_type": "code",
   "execution_count": 45,
   "metadata": {},
   "outputs": [],
   "source": [
    "train_entropy1 = [\n",
    "    get_type_entropy_kgram(text, k=1)\n",
    "    for text in train_texts\n",
    "]\n",
    "test_entropy1 = [\n",
    "    get_type_entropy_kgram(text, k=1)\n",
    "    for text in test_texts\n",
    "]\n",
    "valid_entropy1 = [\n",
    "    get_type_entropy_kgram(text, k=1)\n",
    "    for text in valid_texts\n",
    "]\n",
    "\n",
    "train_entropy2 = [\n",
    "    get_type_entropy_kgram(text, k=2)\n",
    "    for text in train_texts\n",
    "]\n",
    "test_entropy2 = [\n",
    "    get_type_entropy_kgram(text, k=2)\n",
    "    for text in test_texts\n",
    "]\n",
    "valid_entropy2 = [\n",
    "    get_type_entropy_kgram(text, k=2)\n",
    "    for text in valid_texts\n",
    "]\n",
    "\n",
    "train_entropy3 = [\n",
    "    get_type_entropy_kgram(text, k=3)\n",
    "    for text in train_texts\n",
    "]\n",
    "test_entropy3 = [\n",
    "    get_type_entropy_kgram(text, k=3)\n",
    "    for text in test_texts\n",
    "]\n",
    "valid_entropy3 = [\n",
    "    get_type_entropy_kgram(text, k=3)\n",
    "    for text in valid_texts\n",
    "]"
   ]
  },
  {
   "cell_type": "code",
   "execution_count": 46,
   "metadata": {},
   "outputs": [],
   "source": [
    "train_X = np.array([\n",
    "#    train_ttr,\n",
    "#    train_zipf_alpha,\n",
    "    train_entropy1,\n",
    "    train_entropy2,\n",
    "    train_entropy3,\n",
    "]).T\n",
    "\n",
    "test_X = np.array([\n",
    "#    test_ttr,\n",
    "#    test_zipf_alpha,\n",
    "    test_entropy1,\n",
    "    test_entropy2,\n",
    "    test_entropy3,\n",
    "]).T\n",
    "\n",
    "valid_X = np.array([\n",
    "#    valid_ttr,\n",
    "#    valid_zipf_alpha,\n",
    "    valid_entropy1,\n",
    "    valid_entropy2,\n",
    "    valid_entropy3\n",
    "]).T\n",
    "\n",
    "_m = np.mean(train_X, axis=0)\n",
    "_s = np.std(train_X, axis=0)\n",
    "\n",
    "train_X = (train_X - _m) / _s\n",
    "valid_X = (valid_X - _m) / _s\n",
    "test_X = (test_X - _m) / _s"
   ]
  },
  {
   "cell_type": "code",
   "execution_count": 47,
   "metadata": {},
   "outputs": [],
   "source": [
    "clf = MLPClassifier(hidden_layer_sizes=(10, 5, 3), max_iter=1000)\n",
    "#clf = SVC(gamma=\"scale\")\n",
    "clf.fit(train_X, train_labels)\n",
    "\n",
    "df = pd.DataFrame({\n",
    "    \"correct\": valid_labels == clf.predict(valid_X),\n",
    "    \"length\": [ len(x) for x in valid_texts ]\n",
    "})\n",
    "df[\"length_q\"] = pd.qcut(df.length, q=30)\n",
    "accuracy_by_length = df.groupby(\"length_q\").mean()[[\"correct\"]]\n",
    "accuracy_by_length[\"length_m\"] = [float(i.mid) for i in accuracy_by_length.index]\n",
    "accuracy_by_length_MLP = accuracy_by_length.astype(float)"
   ]
  },
  {
   "cell_type": "code",
   "execution_count": 48,
   "metadata": {},
   "outputs": [
    {
     "name": "stdout",
     "output_type": "stream",
     "text": [
      "Fitting 1 folds for each of 7 candidates, totalling 7 fits\n"
     ]
    },
    {
     "name": "stderr",
     "output_type": "stream",
     "text": [
      "[Parallel(n_jobs=4)]: Using backend LokyBackend with 4 concurrent workers.\n",
      "[Parallel(n_jobs=4)]: Done   7 out of   7 | elapsed:    2.5s finished\n"
     ]
    }
   ],
   "source": [
    "accuracy_by_length_logistic = get_QL_accuracy(\n",
    "    train_X, train_labels,\n",
    "    test_X, test_labels,\n",
    "    valid_X, valid_labels\n",
    ")"
   ]
  },
  {
   "cell_type": "code",
   "execution_count": 49,
   "metadata": {},
   "outputs": [
    {
     "data": {
      "text/plain": [
       "Text(0.5, 1.0, 'Baseline Logistic Regression\\n[small-117M]')"
      ]
     },
     "execution_count": 49,
     "metadata": {},
     "output_type": "execute_result"
    },
    {
     "data": {
      "image/png": "[encoded data removed]",
      "text/plain": [
       "<Figure size 360x288 with 1 Axes>"
      ]
     },
     "metadata": {
      "needs_background": "light"
     },
     "output_type": "display_data"
    }
   ],
   "source": [
    "fig, ax = plt.subplots(1, 1, figsize=(5, 4))\n",
    "ax.plot(acc_k1.length_m, acc_k1.correct, label=\"1-gram TF-IDF\", marker=\"o\")\n",
    "ax.plot(acc_k1.length_m, acc_k2.correct, label=\"2-gram TF-IDF\", marker=\"s\")\n",
    "ax.plot(acc_k1.length_m, acc_k3.correct, label=\"3-gram TF-IDF\", marker=\"^\")\n",
    "\n",
    "ax.plot(\n",
    "    *accuracy_by_length_MLP.values.T[::-1],\n",
    "    label=\"QL (perceptron)\"\n",
    ")\n",
    "\n",
    "ax.plot(\n",
    "    *accuracy_by_length_logistic.values.T[::-1],\n",
    "    label=\"QL (logistic)\"\n",
    ")\n",
    "ax.legend(frameon=False)\n",
    "ax.set_ylabel(\"Accuracy\")\n",
    "ax.set_xlabel(\"Text length [tokens]\")\n",
    "ax.set_title(f\"Baseline Logistic Regression\\n[{source}]\")\n",
    "\n"
   ]
  },
  {
   "cell_type": "code",
   "execution_count": null,
   "metadata": {},
   "outputs": [],
   "source": []
  },
  {
   "cell_type": "code",
   "execution_count": null,
   "metadata": {},
   "outputs": [],
   "source": []
  },
  {
   "cell_type": "code",
   "execution_count": null,
   "metadata": {},
   "outputs": [],
   "source": []
  },
  {
   "cell_type": "code",
   "execution_count": null,
   "metadata": {},
   "outputs": [],
   "source": []
  },
  {
   "cell_type": "code",
   "execution_count": null,
   "metadata": {},
   "outputs": [],
   "source": []
  },
  {
   "cell_type": "code",
   "execution_count": null,
   "metadata": {},
   "outputs": [],
   "source": []
  },
  {
   "cell_type": "code",
   "execution_count": null,
   "metadata": {},
   "outputs": [],
   "source": []
  },
  {
   "cell_type": "code",
   "execution_count": null,
   "metadata": {},
   "outputs": [],
   "source": []
  },
  {
   "cell_type": "code",
   "execution_count": null,
   "metadata": {},
   "outputs": [],
   "source": []
  },
  {
   "cell_type": "code",
   "execution_count": null,
   "metadata": {},
   "outputs": [],
   "source": []
  }
 ],
 "metadata": {
  "kernelspec": {
   "display_name": "Python 3",
   "language": "python",
   "name": "python3"
  },
  "language_info": {
   "codemirror_mode": {
    "name": "ipython",
    "version": 3
   },
   "file_extension": ".py",
   "mimetype": "text/x-python",
   "name": "python",
   "nbconvert_exporter": "python",
   "pygments_lexer": "ipython3",
   "version": "3.7.3"
  }
 },
 "nbformat": 4,
 "nbformat_minor": 2
}
